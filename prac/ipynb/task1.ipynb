{
 "cells": [
  {
   "cell_type": "markdown",
   "source": [
    "## Task 1\n",
    "### Напишіть функцію, яка приймає довільну матрицю і повертає три матриці використовуючи бібліотеку NumPy"
   ],
   "metadata": {
    "collapsed": false
   },
   "id": "b10bfce2d6666c0d"
  },
  {
   "cell_type": "code",
   "outputs": [
    {
     "name": "stdout",
     "output_type": "stream",
     "text": [
      "U matrix\n",
      " [[ 0.70710678 -0.70710678]\n",
      " [ 0.70710678  0.70710678]]\n",
      "\n",
      "\n",
      "\n",
      "Sigma Matrix\n",
      " [[5. 0.]\n",
      " [0. 3.]\n",
      " [0. 0.]]\n",
      "\n",
      "\n",
      "\n",
      "Vt Matrix\n",
      " [[-7.07106781e-01  2.35702260e-01 -6.66666667e-01]\n",
      " [-7.07106781e-01 -2.35702260e-01  6.66666667e-01]\n",
      " [-6.93889390e-17  9.42809042e-01  3.33333333e-01]]\n",
      "\n",
      "\n",
      "\n",
      "Is reconstructed:  False\n"
     ]
    }
   ],
   "source": [
    "## SVD realization\n",
    "import numpy as np\n",
    "\n",
    "def svd(matrix):\n",
    "\n",
    "    # 1) Find symmetric marix 2x2 and 3x3\n",
    "    # (2x2 - U matrix, 3x3T - VT matrix)\n",
    "\n",
    "    # MATRIX 2x2\n",
    "    mul_MT_M = np.dot(matrix.T, matrix)\n",
    "\n",
    "    #matrix 3x3\n",
    "    mul_M_MT = np.dot(matrix, matrix.T)\n",
    "\n",
    "    # 2)\n",
    "    # Find Eigen Values and Vectors\n",
    "    eigenval_MT_M, eigenvec_MT_M = np.linalg.eigh(mul_MT_M)\n",
    "    eigenval_M_MT, eigenvec_M_MT = np.linalg.eigh(mul_M_MT)\n",
    "\n",
    "    # sort it in descending order\n",
    "    desc_ind_MT_M = np.argsort(eigenval_MT_M)[::-1]\n",
    "    desc_ind_M_MT = np.argsort(eigenval_M_MT)[::-1]\n",
    "\n",
    "    eigenval_MT_M = eigenval_MT_M[desc_ind_MT_M]\n",
    "    eigenval_M_MT = eigenval_M_MT[desc_ind_M_MT]\n",
    "\n",
    "    eigenvec_MT_M = eigenvec_MT_M[:, desc_ind_MT_M]\n",
    "    eigenvec_M_MT = eigenvec_M_MT[:, desc_ind_M_MT]\n",
    "\n",
    "\n",
    "    # 3) Sigma Matrix\n",
    "\n",
    "    sigma = np.sqrt(eigenval_MT_M)\n",
    "    sigma_matrix = np.zeros_like(matrix, dtype=float)\n",
    "    np.fill_diagonal(sigma_matrix, sigma)\n",
    "\n",
    "    # 4) CHECK for recostruct\n",
    "    reconstructed_matrix = np.dot(eigenvec_M_MT, np.dot(sigma_matrix, eigenvec_MT_M.T))\n",
    "    is_reconstructed = np.allclose(matrix, reconstructed_matrix)\n",
    "\n",
    "    return eigenvec_MT_M, sigma_matrix, eigenvec_M_MT, is_reconstructed\n",
    "\n",
    "\n",
    "\n",
    "matrix = np.array([\n",
    "    [3, 2],\n",
    "    [2, 3],\n",
    "    [2, -2]\n",
    "])\n",
    "names = [\"U matrix\\n\", \"Sigma Matrix\\n\", \"Vt Matrix\\n\", \"Is reconstructed: \"]\n",
    "\n",
    "result = svd(matrix)\n",
    "for name, el in zip(names, result):\n",
    "    print(name, el)\n",
    "    print('\\n\\n')"
   ],
   "metadata": {
    "collapsed": false,
    "ExecuteTime": {
     "end_time": "2024-06-30T17:27:15.593110Z",
     "start_time": "2024-06-30T17:27:15.584549Z"
    }
   },
   "id": "5a1143414216b9c5",
   "execution_count": 4
  }
 ],
 "metadata": {
  "kernelspec": {
   "display_name": "Python 3",
   "language": "python",
   "name": "python3"
  },
  "language_info": {
   "codemirror_mode": {
    "name": "ipython",
    "version": 2
   },
   "file_extension": ".py",
   "mimetype": "text/x-python",
   "name": "python",
   "nbconvert_exporter": "python",
   "pygments_lexer": "ipython2",
   "version": "2.7.6"
  }
 },
 "nbformat": 4,
 "nbformat_minor": 5
}
